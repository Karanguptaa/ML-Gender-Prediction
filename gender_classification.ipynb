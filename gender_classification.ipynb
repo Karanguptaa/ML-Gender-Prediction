{
 "cells": [
  {
   "cell_type": "code",
   "execution_count": 1,
   "id": "f297ba66-e404-4112-b63a-3a677510e4d1",
   "metadata": {},
   "outputs": [
    {
     "name": "stderr",
     "output_type": "stream",
     "text": [
      "C:\\Users\\dell\\AppData\\Roaming\\Python\\Python311\\site-packages\\pandas\\core\\arrays\\masked.py:60: UserWarning: Pandas requires version '1.3.6' or newer of 'bottleneck' (version '1.3.5' currently installed).\n",
      "  from pandas.core import (\n"
     ]
    }
   ],
   "source": [
    "import pandas as pd\n",
    "import numpy as np \n",
    "import matplotlib.pyplot as plt\n",
    "import seaborn as sns\n",
    "from sklearn.linear_model import LogisticRegression\n",
    "from sklearn.preprocessing import LabelEncoder,OneHotEncoder,StandardScaler,MinMaxScaler\n",
    "from sklearn.compose import make_column_transformer\n",
    "from sklearn.neighbors import KNeighborsClassifier\n",
    "from sklearn.svm import SVC\n",
    "from sklearn.ensemble import RandomForestClassifier\n",
    "from sklearn.tree import DecisionTreeClassifier\n",
    "from sklearn.impute import SimpleImputer\n",
    "from sklearn.model_selection import train_test_split,cross_val_score\n",
    "from sklearn.metrics import mean_absolute_error, confusion_matrix, classification_report, accuracy_score\n",
    "import warnings\n",
    "warnings.filterwarnings(\"ignore\")"
   ]
  },
  {
   "cell_type": "markdown",
   "id": "20afd56f-a47b-4e2c-88d3-f7e67395a432",
   "metadata": {},
   "source": [
    "IMPORT DATASET"
   ]
  },
  {
   "cell_type": "code",
   "execution_count": 2,
   "id": "0003d464-65d7-4c6d-b6d1-8b1a87a5f51e",
   "metadata": {},
   "outputs": [
    {
     "data": {
      "text/plain": [
       "'C:\\\\Users\\\\dell\\\\Downloads'"
      ]
     },
     "execution_count": 2,
     "metadata": {},
     "output_type": "execute_result"
    }
   ],
   "source": [
    "import os\n",
    "os.getcwd()"
   ]
  },
  {
   "cell_type": "code",
   "execution_count": 3,
   "id": "4c05d05a-717b-431f-8fa6-1a38d7512425",
   "metadata": {},
   "outputs": [],
   "source": [
    "df = pd.read_csv('gender_classification_v7.csv')"
   ]
  },
  {
   "cell_type": "code",
   "execution_count": 4,
   "id": "7c2270ae-ed7a-44cb-852f-c8148f260282",
   "metadata": {},
   "outputs": [
    {
     "data": {
      "text/html": [
       "<div>\n",
       "<style scoped>\n",
       "    .dataframe tbody tr th:only-of-type {\n",
       "        vertical-align: middle;\n",
       "    }\n",
       "\n",
       "    .dataframe tbody tr th {\n",
       "        vertical-align: top;\n",
       "    }\n",
       "\n",
       "    .dataframe thead th {\n",
       "        text-align: right;\n",
       "    }\n",
       "</style>\n",
       "<table border=\"1\" class=\"dataframe\">\n",
       "  <thead>\n",
       "    <tr style=\"text-align: right;\">\n",
       "      <th></th>\n",
       "      <th>long_hair</th>\n",
       "      <th>forehead_width_cm</th>\n",
       "      <th>forehead_height_cm</th>\n",
       "      <th>nose_wide</th>\n",
       "      <th>nose_long</th>\n",
       "      <th>lips_thin</th>\n",
       "      <th>distance_nose_to_lip_long</th>\n",
       "      <th>gender</th>\n",
       "    </tr>\n",
       "  </thead>\n",
       "  <tbody>\n",
       "    <tr>\n",
       "      <th>0</th>\n",
       "      <td>1</td>\n",
       "      <td>11.8</td>\n",
       "      <td>6.1</td>\n",
       "      <td>1</td>\n",
       "      <td>0</td>\n",
       "      <td>1</td>\n",
       "      <td>1</td>\n",
       "      <td>Male</td>\n",
       "    </tr>\n",
       "    <tr>\n",
       "      <th>1</th>\n",
       "      <td>0</td>\n",
       "      <td>14.0</td>\n",
       "      <td>5.4</td>\n",
       "      <td>0</td>\n",
       "      <td>0</td>\n",
       "      <td>1</td>\n",
       "      <td>0</td>\n",
       "      <td>Female</td>\n",
       "    </tr>\n",
       "    <tr>\n",
       "      <th>2</th>\n",
       "      <td>0</td>\n",
       "      <td>11.8</td>\n",
       "      <td>6.3</td>\n",
       "      <td>1</td>\n",
       "      <td>1</td>\n",
       "      <td>1</td>\n",
       "      <td>1</td>\n",
       "      <td>Male</td>\n",
       "    </tr>\n",
       "    <tr>\n",
       "      <th>3</th>\n",
       "      <td>0</td>\n",
       "      <td>14.4</td>\n",
       "      <td>6.1</td>\n",
       "      <td>0</td>\n",
       "      <td>1</td>\n",
       "      <td>1</td>\n",
       "      <td>1</td>\n",
       "      <td>Male</td>\n",
       "    </tr>\n",
       "    <tr>\n",
       "      <th>4</th>\n",
       "      <td>1</td>\n",
       "      <td>13.5</td>\n",
       "      <td>5.9</td>\n",
       "      <td>0</td>\n",
       "      <td>0</td>\n",
       "      <td>0</td>\n",
       "      <td>0</td>\n",
       "      <td>Female</td>\n",
       "    </tr>\n",
       "    <tr>\n",
       "      <th>...</th>\n",
       "      <td>...</td>\n",
       "      <td>...</td>\n",
       "      <td>...</td>\n",
       "      <td>...</td>\n",
       "      <td>...</td>\n",
       "      <td>...</td>\n",
       "      <td>...</td>\n",
       "      <td>...</td>\n",
       "    </tr>\n",
       "    <tr>\n",
       "      <th>20001</th>\n",
       "      <td>1</td>\n",
       "      <td>13.6</td>\n",
       "      <td>5.1</td>\n",
       "      <td>0</td>\n",
       "      <td>0</td>\n",
       "      <td>0</td>\n",
       "      <td>0</td>\n",
       "      <td>Female</td>\n",
       "    </tr>\n",
       "    <tr>\n",
       "      <th>20002</th>\n",
       "      <td>1</td>\n",
       "      <td>11.9</td>\n",
       "      <td>5.4</td>\n",
       "      <td>0</td>\n",
       "      <td>0</td>\n",
       "      <td>0</td>\n",
       "      <td>0</td>\n",
       "      <td>Female</td>\n",
       "    </tr>\n",
       "    <tr>\n",
       "      <th>20003</th>\n",
       "      <td>1</td>\n",
       "      <td>12.9</td>\n",
       "      <td>5.7</td>\n",
       "      <td>0</td>\n",
       "      <td>0</td>\n",
       "      <td>0</td>\n",
       "      <td>0</td>\n",
       "      <td>Female</td>\n",
       "    </tr>\n",
       "    <tr>\n",
       "      <th>20004</th>\n",
       "      <td>1</td>\n",
       "      <td>13.2</td>\n",
       "      <td>6.2</td>\n",
       "      <td>0</td>\n",
       "      <td>0</td>\n",
       "      <td>0</td>\n",
       "      <td>0</td>\n",
       "      <td>Female</td>\n",
       "    </tr>\n",
       "    <tr>\n",
       "      <th>20005</th>\n",
       "      <td>1</td>\n",
       "      <td>15.4</td>\n",
       "      <td>5.4</td>\n",
       "      <td>1</td>\n",
       "      <td>1</td>\n",
       "      <td>1</td>\n",
       "      <td>1</td>\n",
       "      <td>Male</td>\n",
       "    </tr>\n",
       "  </tbody>\n",
       "</table>\n",
       "<p>20006 rows × 8 columns</p>\n",
       "</div>"
      ],
      "text/plain": [
       "       long_hair  forehead_width_cm  forehead_height_cm  nose_wide  nose_long  \\\n",
       "0              1               11.8                 6.1          1          0   \n",
       "1              0               14.0                 5.4          0          0   \n",
       "2              0               11.8                 6.3          1          1   \n",
       "3              0               14.4                 6.1          0          1   \n",
       "4              1               13.5                 5.9          0          0   \n",
       "...          ...                ...                 ...        ...        ...   \n",
       "20001          1               13.6                 5.1          0          0   \n",
       "20002          1               11.9                 5.4          0          0   \n",
       "20003          1               12.9                 5.7          0          0   \n",
       "20004          1               13.2                 6.2          0          0   \n",
       "20005          1               15.4                 5.4          1          1   \n",
       "\n",
       "       lips_thin  distance_nose_to_lip_long  gender  \n",
       "0              1                          1    Male  \n",
       "1              1                          0  Female  \n",
       "2              1                          1    Male  \n",
       "3              1                          1    Male  \n",
       "4              0                          0  Female  \n",
       "...          ...                        ...     ...  \n",
       "20001          0                          0  Female  \n",
       "20002          0                          0  Female  \n",
       "20003          0                          0  Female  \n",
       "20004          0                          0  Female  \n",
       "20005          1                          1    Male  \n",
       "\n",
       "[20006 rows x 8 columns]"
      ]
     },
     "execution_count": 4,
     "metadata": {},
     "output_type": "execute_result"
    }
   ],
   "source": [
    "df"
   ]
  },
  {
   "cell_type": "code",
   "execution_count": 5,
   "id": "8ae2fb2f-1f2a-49e8-8904-426cd8e7444b",
   "metadata": {},
   "outputs": [
    {
     "data": {
      "text/plain": [
       "(20006, 8)"
      ]
     },
     "execution_count": 5,
     "metadata": {},
     "output_type": "execute_result"
    }
   ],
   "source": [
    "df.shape"
   ]
  },
  {
   "cell_type": "code",
   "execution_count": 6,
   "id": "6c1e2142-b7c1-4470-ace3-662e692d345a",
   "metadata": {},
   "outputs": [
    {
     "data": {
      "text/html": [
       "<div>\n",
       "<style scoped>\n",
       "    .dataframe tbody tr th:only-of-type {\n",
       "        vertical-align: middle;\n",
       "    }\n",
       "\n",
       "    .dataframe tbody tr th {\n",
       "        vertical-align: top;\n",
       "    }\n",
       "\n",
       "    .dataframe thead th {\n",
       "        text-align: right;\n",
       "    }\n",
       "</style>\n",
       "<table border=\"1\" class=\"dataframe\">\n",
       "  <thead>\n",
       "    <tr style=\"text-align: right;\">\n",
       "      <th></th>\n",
       "      <th>long_hair</th>\n",
       "      <th>forehead_width_cm</th>\n",
       "      <th>forehead_height_cm</th>\n",
       "      <th>nose_wide</th>\n",
       "      <th>nose_long</th>\n",
       "      <th>lips_thin</th>\n",
       "      <th>distance_nose_to_lip_long</th>\n",
       "    </tr>\n",
       "  </thead>\n",
       "  <tbody>\n",
       "    <tr>\n",
       "      <th>count</th>\n",
       "      <td>20006.000000</td>\n",
       "      <td>20006.000000</td>\n",
       "      <td>20006.000000</td>\n",
       "      <td>20006.000000</td>\n",
       "      <td>20006.000000</td>\n",
       "      <td>20006.000000</td>\n",
       "      <td>20006.000000</td>\n",
       "    </tr>\n",
       "    <tr>\n",
       "      <th>mean</th>\n",
       "      <td>0.869639</td>\n",
       "      <td>13.181356</td>\n",
       "      <td>5.946256</td>\n",
       "      <td>0.493852</td>\n",
       "      <td>0.507848</td>\n",
       "      <td>0.493052</td>\n",
       "      <td>0.498850</td>\n",
       "    </tr>\n",
       "    <tr>\n",
       "      <th>std</th>\n",
       "      <td>0.336708</td>\n",
       "      <td>1.107064</td>\n",
       "      <td>0.541228</td>\n",
       "      <td>0.499975</td>\n",
       "      <td>0.499951</td>\n",
       "      <td>0.499964</td>\n",
       "      <td>0.500011</td>\n",
       "    </tr>\n",
       "    <tr>\n",
       "      <th>min</th>\n",
       "      <td>0.000000</td>\n",
       "      <td>11.400000</td>\n",
       "      <td>5.100000</td>\n",
       "      <td>0.000000</td>\n",
       "      <td>0.000000</td>\n",
       "      <td>0.000000</td>\n",
       "      <td>0.000000</td>\n",
       "    </tr>\n",
       "    <tr>\n",
       "      <th>25%</th>\n",
       "      <td>1.000000</td>\n",
       "      <td>12.200000</td>\n",
       "      <td>5.500000</td>\n",
       "      <td>0.000000</td>\n",
       "      <td>0.000000</td>\n",
       "      <td>0.000000</td>\n",
       "      <td>0.000000</td>\n",
       "    </tr>\n",
       "    <tr>\n",
       "      <th>50%</th>\n",
       "      <td>1.000000</td>\n",
       "      <td>13.100000</td>\n",
       "      <td>5.900000</td>\n",
       "      <td>0.000000</td>\n",
       "      <td>1.000000</td>\n",
       "      <td>0.000000</td>\n",
       "      <td>0.000000</td>\n",
       "    </tr>\n",
       "    <tr>\n",
       "      <th>75%</th>\n",
       "      <td>1.000000</td>\n",
       "      <td>14.000000</td>\n",
       "      <td>6.400000</td>\n",
       "      <td>1.000000</td>\n",
       "      <td>1.000000</td>\n",
       "      <td>1.000000</td>\n",
       "      <td>1.000000</td>\n",
       "    </tr>\n",
       "    <tr>\n",
       "      <th>max</th>\n",
       "      <td>1.000000</td>\n",
       "      <td>15.500000</td>\n",
       "      <td>7.100000</td>\n",
       "      <td>1.000000</td>\n",
       "      <td>1.000000</td>\n",
       "      <td>1.000000</td>\n",
       "      <td>1.000000</td>\n",
       "    </tr>\n",
       "  </tbody>\n",
       "</table>\n",
       "</div>"
      ],
      "text/plain": [
       "          long_hair  forehead_width_cm  forehead_height_cm     nose_wide  \\\n",
       "count  20006.000000       20006.000000        20006.000000  20006.000000   \n",
       "mean       0.869639          13.181356            5.946256      0.493852   \n",
       "std        0.336708           1.107064            0.541228      0.499975   \n",
       "min        0.000000          11.400000            5.100000      0.000000   \n",
       "25%        1.000000          12.200000            5.500000      0.000000   \n",
       "50%        1.000000          13.100000            5.900000      0.000000   \n",
       "75%        1.000000          14.000000            6.400000      1.000000   \n",
       "max        1.000000          15.500000            7.100000      1.000000   \n",
       "\n",
       "          nose_long     lips_thin  distance_nose_to_lip_long  \n",
       "count  20006.000000  20006.000000               20006.000000  \n",
       "mean       0.507848      0.493052                   0.498850  \n",
       "std        0.499951      0.499964                   0.500011  \n",
       "min        0.000000      0.000000                   0.000000  \n",
       "25%        0.000000      0.000000                   0.000000  \n",
       "50%        1.000000      0.000000                   0.000000  \n",
       "75%        1.000000      1.000000                   1.000000  \n",
       "max        1.000000      1.000000                   1.000000  "
      ]
     },
     "execution_count": 6,
     "metadata": {},
     "output_type": "execute_result"
    }
   ],
   "source": [
    "# Returns basic statistics on numeric columns\n",
    "df.describe()"
   ]
  },
  {
   "cell_type": "code",
   "execution_count": 7,
   "id": "b789bbd6-344a-4e32-892d-e6ec4da0ac0a",
   "metadata": {},
   "outputs": [
    {
     "name": "stdout",
     "output_type": "stream",
     "text": [
      "<class 'pandas.core.frame.DataFrame'>\n",
      "RangeIndex: 20006 entries, 0 to 20005\n",
      "Data columns (total 8 columns):\n",
      " #   Column                     Non-Null Count  Dtype  \n",
      "---  ------                     --------------  -----  \n",
      " 0   long_hair                  20006 non-null  int64  \n",
      " 1   forehead_width_cm          20006 non-null  float64\n",
      " 2   forehead_height_cm         20006 non-null  float64\n",
      " 3   nose_wide                  20006 non-null  int64  \n",
      " 4   nose_long                  20006 non-null  int64  \n",
      " 5   lips_thin                  20006 non-null  int64  \n",
      " 6   distance_nose_to_lip_long  20006 non-null  int64  \n",
      " 7   gender                     20006 non-null  object \n",
      "dtypes: float64(2), int64(5), object(1)\n",
      "memory usage: 1.2+ MB\n"
     ]
    }
   ],
   "source": [
    "# Returns basic information on all columns\n",
    "df.info()"
   ]
  },
  {
   "cell_type": "code",
   "execution_count": 8,
   "id": "6b452b1a-5ce6-4cdf-a02e-efb65aefab05",
   "metadata": {},
   "outputs": [
    {
     "data": {
      "text/plain": [
       "16773"
      ]
     },
     "execution_count": 8,
     "metadata": {},
     "output_type": "execute_result"
    }
   ],
   "source": [
    "len(df[df.duplicated])"
   ]
  },
  {
   "cell_type": "code",
   "execution_count": 9,
   "id": "650c2d6e-2215-4d4c-b331-ca91781a5eb7",
   "metadata": {},
   "outputs": [
    {
     "data": {
      "text/plain": [
       "long_hair                    0\n",
       "forehead_width_cm            0\n",
       "forehead_height_cm           0\n",
       "nose_wide                    0\n",
       "nose_long                    0\n",
       "lips_thin                    0\n",
       "distance_nose_to_lip_long    0\n",
       "gender                       0\n",
       "dtype: int64"
      ]
     },
     "execution_count": 9,
     "metadata": {},
     "output_type": "execute_result"
    }
   ],
   "source": [
    "# in pandas to obtain a summary of missing (null or NaN) values in each column of a DataFrame\n",
    "df.isnull().sum()"
   ]
  },
  {
   "cell_type": "code",
   "execution_count": 10,
   "id": "e9070327-c885-40a1-a7b9-ca00026a3bd9",
   "metadata": {},
   "outputs": [
    {
     "data": {
      "text/plain": [
       "(20006, 8)"
      ]
     },
     "execution_count": 10,
     "metadata": {},
     "output_type": "execute_result"
    }
   ],
   "source": [
    "# df is a DataFrame, df.shape would return a tuple like (n_rows, n_columns)\n",
    "df.shape"
   ]
  },
  {
   "cell_type": "code",
   "execution_count": 11,
   "id": "63c7bad5-e7a6-4f5a-930c-3e204d1f7e9f",
   "metadata": {},
   "outputs": [
    {
     "data": {
      "text/plain": [
       "Index(['long_hair', 'forehead_width_cm', 'forehead_height_cm', 'nose_wide',\n",
       "       'nose_long', 'lips_thin', 'distance_nose_to_lip_long', 'gender'],\n",
       "      dtype='object')"
      ]
     },
     "execution_count": 11,
     "metadata": {},
     "output_type": "execute_result"
    }
   ],
   "source": [
    "# Returns an object with all of the column headers\n",
    "df.columns"
   ]
  },
  {
   "cell_type": "code",
   "execution_count": 12,
   "id": "10fef545-1414-4fd3-95da-2720ef43ea34",
   "metadata": {},
   "outputs": [
    {
     "data": {
      "text/plain": [
       "long_hair                      int64\n",
       "forehead_width_cm            float64\n",
       "forehead_height_cm           float64\n",
       "nose_wide                      int64\n",
       "nose_long                      int64\n",
       "lips_thin                      int64\n",
       "distance_nose_to_lip_long      int64\n",
       "gender                        object\n",
       "dtype: object"
      ]
     },
     "execution_count": 12,
     "metadata": {},
     "output_type": "execute_result"
    }
   ],
   "source": [
    "# Returns different datatypes for each columns (float, int, string, bool, etc.)\n",
    "df.dtypes"
   ]
  },
  {
   "cell_type": "markdown",
   "id": "21af37a1-c74d-4af8-b314-3d747add109f",
   "metadata": {},
   "source": [
    "Data Visualization"
   ]
  },
  {
   "cell_type": "code",
   "execution_count": 13,
   "id": "9cc72f74-56b8-4827-bae5-b857bc051a72",
   "metadata": {},
   "outputs": [
    {
     "data": {
      "text/plain": [
       "long_hair\n",
       "1    8738\n",
       "0    1268\n",
       "Name: count, dtype: int64"
      ]
     },
     "execution_count": 13,
     "metadata": {},
     "output_type": "execute_result"
    }
   ],
   "source": [
    "df[[\"long_hair\",\"gender\"]].groupby(\"gender\").get_group(\"Female\")[\"long_hair\"].value_counts()"
   ]
  },
  {
   "cell_type": "code",
   "execution_count": 14,
   "id": "6efd2f98-2c4a-434c-8cae-34d1640599c3",
   "metadata": {},
   "outputs": [
    {
     "data": {
      "text/plain": [
       "long_hair\n",
       "1    8660\n",
       "0    1340\n",
       "Name: count, dtype: int64"
      ]
     },
     "execution_count": 14,
     "metadata": {},
     "output_type": "execute_result"
    }
   ],
   "source": [
    "df[[\"long_hair\",\"gender\"]].groupby(\"gender\").get_group(\"Male\")[\"long_hair\"].value_counts()"
   ]
  },
  {
   "cell_type": "code",
   "execution_count": 15,
   "id": "9cbbeae0-86c2-44c4-8081-16eb5861a0b5",
   "metadata": {},
   "outputs": [
    {
     "data": {
      "image/png": "[encoded data removed]",
      "text/plain": [
       "<Figure size 800x600 with 1 Axes>"
      ]
     },
     "metadata": {},
     "output_type": "display_data"
    }
   ],
   "source": [
    "def fun(pct,all_values):\n",
    "    absolute = (pct/100) * np.sum(all_values)\n",
    "    return f\"{pct :.2f}\\n{absolute :.0f}\"\n",
    "\n",
    "\n",
    "plt.figure(figsize=(8,6))\n",
    "plt.title(\"Gender\",weight='bold',fontsize=17)\n",
    "plt.pie(df.gender.value_counts().values,labels=df.gender.value_counts().index,autopct=lambda x:fun(x,df.gender.value_counts().values))\n",
    "plt.legend(shadow=True)\n",
    "plt.show()"
   ]
  },
  {
   "cell_type": "code",
   "execution_count": 16,
   "id": "d4594a06-c16c-4177-af10-a30695ab7ddf",
   "metadata": {},
   "outputs": [
    {
     "data": {
      "image/png": "[encoded data removed]",
      "text/plain": [
       "<Figure size 640x480 with 1 Axes>"
      ]
     },
     "metadata": {},
     "output_type": "display_data"
    }
   ],
   "source": [
    "sns.countplot(x=df.long_hair,palette=(\"cool\"),hue=df[\"gender\"])\n",
    "plt.xticks([0,1],labels=[\"No\",\"Yes\"])\n",
    "plt.show()"
   ]
  },
  {
   "cell_type": "code",
   "execution_count": 17,
   "id": "9f088474-767e-4293-bc89-3f27e02d2fa6",
   "metadata": {},
   "outputs": [
    {
     "data": {
      "image/png": "[encoded data removed]",
      "text/plain": [
       "<Figure size 640x480 with 1 Axes>"
      ]
     },
     "metadata": {},
     "output_type": "display_data"
    },
    {
     "name": "stdout",
     "output_type": "stream",
     "text": [
      "There is no correlation\n"
     ]
    }
   ],
   "source": [
    "sns.scatterplot(x=df[\"forehead_width_cm\"],y=df[\"forehead_height_cm\"])\n",
    "plt.show()\n",
    "print(\"There is no correlation\")"
   ]
  },
  {
   "cell_type": "code",
   "execution_count": 18,
   "id": "a4fd368b-021d-44de-a43f-e6c8d76e3b50",
   "metadata": {},
   "outputs": [
    {
     "data": {
      "image/png": "[encoded data removed]",
      "text/plain": [
       "<Figure size 1000x2500 with 4 Axes>"
      ]
     },
     "metadata": {},
     "output_type": "display_data"
    }
   ],
   "source": [
    "def plot_fun(x,i):\n",
    "    l = [\"dark\",\"mako\",\"flare\",\"cubehelix\"]\n",
    "    plt.subplot(4,1,i)\n",
    "    plt.title(x)\n",
    "    sns.countplot(x=df[x],palette=(l[i-1]),hue=df[\"gender\"])\n",
    "    plt.xticks(ticks=[0,1],labels=[\"True\",\"False\"])\n",
    "\n",
    "plt.figure(figsize=(10,25))\n",
    "plot_fun(\"nose_wide\",1)\n",
    "plot_fun(\"nose_long\",2)\n",
    "plot_fun(\"lips_thin\",3)\n",
    "plot_fun(\"distance_nose_to_lip_long\",4)\n",
    "plt.tight_layout()"
   ]
  },
  {
   "cell_type": "markdown",
   "id": "7dca306b-2675-4c10-8162-13fba35e1a8d",
   "metadata": {},
   "source": [
    "DATA PREPROCESSING"
   ]
  },
  {
   "cell_type": "code",
   "execution_count": 19,
   "id": "1172e649-4e92-42a0-a846-fdd279581ee3",
   "metadata": {},
   "outputs": [
    {
     "data": {
      "text/html": [
       "<div>\n",
       "<style scoped>\n",
       "    .dataframe tbody tr th:only-of-type {\n",
       "        vertical-align: middle;\n",
       "    }\n",
       "\n",
       "    .dataframe tbody tr th {\n",
       "        vertical-align: top;\n",
       "    }\n",
       "\n",
       "    .dataframe thead th {\n",
       "        text-align: right;\n",
       "    }\n",
       "</style>\n",
       "<table border=\"1\" class=\"dataframe\">\n",
       "  <thead>\n",
       "    <tr style=\"text-align: right;\">\n",
       "      <th></th>\n",
       "      <th>long_hair</th>\n",
       "      <th>forehead_width_cm</th>\n",
       "      <th>forehead_height_cm</th>\n",
       "      <th>nose_wide</th>\n",
       "      <th>nose_long</th>\n",
       "      <th>lips_thin</th>\n",
       "      <th>distance_nose_to_lip_long</th>\n",
       "      <th>gender</th>\n",
       "    </tr>\n",
       "  </thead>\n",
       "  <tbody>\n",
       "    <tr>\n",
       "      <th>0</th>\n",
       "      <td>1</td>\n",
       "      <td>11.8</td>\n",
       "      <td>6.1</td>\n",
       "      <td>1</td>\n",
       "      <td>0</td>\n",
       "      <td>1</td>\n",
       "      <td>1</td>\n",
       "      <td>Male</td>\n",
       "    </tr>\n",
       "    <tr>\n",
       "      <th>1</th>\n",
       "      <td>0</td>\n",
       "      <td>14.0</td>\n",
       "      <td>5.4</td>\n",
       "      <td>0</td>\n",
       "      <td>0</td>\n",
       "      <td>1</td>\n",
       "      <td>0</td>\n",
       "      <td>Female</td>\n",
       "    </tr>\n",
       "    <tr>\n",
       "      <th>2</th>\n",
       "      <td>0</td>\n",
       "      <td>11.8</td>\n",
       "      <td>6.3</td>\n",
       "      <td>1</td>\n",
       "      <td>1</td>\n",
       "      <td>1</td>\n",
       "      <td>1</td>\n",
       "      <td>Male</td>\n",
       "    </tr>\n",
       "    <tr>\n",
       "      <th>3</th>\n",
       "      <td>0</td>\n",
       "      <td>14.4</td>\n",
       "      <td>6.1</td>\n",
       "      <td>0</td>\n",
       "      <td>1</td>\n",
       "      <td>1</td>\n",
       "      <td>1</td>\n",
       "      <td>Male</td>\n",
       "    </tr>\n",
       "    <tr>\n",
       "      <th>4</th>\n",
       "      <td>1</td>\n",
       "      <td>13.5</td>\n",
       "      <td>5.9</td>\n",
       "      <td>0</td>\n",
       "      <td>0</td>\n",
       "      <td>0</td>\n",
       "      <td>0</td>\n",
       "      <td>Female</td>\n",
       "    </tr>\n",
       "  </tbody>\n",
       "</table>\n",
       "</div>"
      ],
      "text/plain": [
       "   long_hair  forehead_width_cm  forehead_height_cm  nose_wide  nose_long  \\\n",
       "0          1               11.8                 6.1          1          0   \n",
       "1          0               14.0                 5.4          0          0   \n",
       "2          0               11.8                 6.3          1          1   \n",
       "3          0               14.4                 6.1          0          1   \n",
       "4          1               13.5                 5.9          0          0   \n",
       "\n",
       "   lips_thin  distance_nose_to_lip_long  gender  \n",
       "0          1                          1    Male  \n",
       "1          1                          0  Female  \n",
       "2          1                          1    Male  \n",
       "3          1                          1    Male  \n",
       "4          0                          0  Female  "
      ]
     },
     "execution_count": 19,
     "metadata": {},
     "output_type": "execute_result"
    }
   ],
   "source": [
    "df.head()"
   ]
  },
  {
   "cell_type": "code",
   "execution_count": 20,
   "id": "f2c0e14c-a9b7-4d8b-82d1-7b2c9ac03885",
   "metadata": {},
   "outputs": [],
   "source": [
    "le = LabelEncoder()\n",
    "df.gender = le.fit_transform(df.gender).astype(int)"
   ]
  },
  {
   "cell_type": "code",
   "execution_count": 21,
   "id": "8347c61b-25e8-4297-9f01-6b0e814c1615",
   "metadata": {},
   "outputs": [],
   "source": [
    "si = SimpleImputer()\n",
    "ss = StandardScaler()"
   ]
  },
  {
   "cell_type": "code",
   "execution_count": 22,
   "id": "072fcb57-67e8-4fcc-b613-dbeb7b0850e2",
   "metadata": {},
   "outputs": [],
   "source": [
    "mk = make_column_transformer((ss,[\"forehead_width_cm\",\"forehead_height_cm\"]),\n",
    "                       remainder='drop')"
   ]
  },
  {
   "cell_type": "code",
   "execution_count": 23,
   "id": "7c416740-671c-4a1b-a008-37b12e753c28",
   "metadata": {},
   "outputs": [],
   "source": [
    "x = mk.fit_transform(df)"
   ]
  },
  {
   "cell_type": "code",
   "execution_count": 24,
   "id": "6ebb1644-f27e-4d6a-8623-18c222f6dfa5",
   "metadata": {},
   "outputs": [],
   "source": [
    "df.forehead_width_cm = x[:,0]\n",
    "df.forehead_height_cm = x[:,1]"
   ]
  },
  {
   "cell_type": "code",
   "execution_count": 25,
   "id": "176efb27-c819-4f47-91ba-32db0bcc7130",
   "metadata": {},
   "outputs": [
    {
     "data": {
      "text/html": [
       "<div>\n",
       "<style scoped>\n",
       "    .dataframe tbody tr th:only-of-type {\n",
       "        vertical-align: middle;\n",
       "    }\n",
       "\n",
       "    .dataframe tbody tr th {\n",
       "        vertical-align: top;\n",
       "    }\n",
       "\n",
       "    .dataframe thead th {\n",
       "        text-align: right;\n",
       "    }\n",
       "</style>\n",
       "<table border=\"1\" class=\"dataframe\">\n",
       "  <thead>\n",
       "    <tr style=\"text-align: right;\">\n",
       "      <th></th>\n",
       "      <th>long_hair</th>\n",
       "      <th>forehead_width_cm</th>\n",
       "      <th>forehead_height_cm</th>\n",
       "      <th>nose_wide</th>\n",
       "      <th>nose_long</th>\n",
       "      <th>lips_thin</th>\n",
       "      <th>distance_nose_to_lip_long</th>\n",
       "      <th>gender</th>\n",
       "    </tr>\n",
       "  </thead>\n",
       "  <tbody>\n",
       "    <tr>\n",
       "      <th>0</th>\n",
       "      <td>1</td>\n",
       "      <td>-1.247796</td>\n",
       "      <td>0.284072</td>\n",
       "      <td>1</td>\n",
       "      <td>0</td>\n",
       "      <td>1</td>\n",
       "      <td>1</td>\n",
       "      <td>1</td>\n",
       "    </tr>\n",
       "    <tr>\n",
       "      <th>1</th>\n",
       "      <td>0</td>\n",
       "      <td>0.739492</td>\n",
       "      <td>-1.009316</td>\n",
       "      <td>0</td>\n",
       "      <td>0</td>\n",
       "      <td>1</td>\n",
       "      <td>0</td>\n",
       "      <td>0</td>\n",
       "    </tr>\n",
       "    <tr>\n",
       "      <th>2</th>\n",
       "      <td>0</td>\n",
       "      <td>-1.247796</td>\n",
       "      <td>0.653612</td>\n",
       "      <td>1</td>\n",
       "      <td>1</td>\n",
       "      <td>1</td>\n",
       "      <td>1</td>\n",
       "      <td>1</td>\n",
       "    </tr>\n",
       "    <tr>\n",
       "      <th>3</th>\n",
       "      <td>0</td>\n",
       "      <td>1.100817</td>\n",
       "      <td>0.284072</td>\n",
       "      <td>0</td>\n",
       "      <td>1</td>\n",
       "      <td>1</td>\n",
       "      <td>1</td>\n",
       "      <td>1</td>\n",
       "    </tr>\n",
       "    <tr>\n",
       "      <th>4</th>\n",
       "      <td>1</td>\n",
       "      <td>0.287836</td>\n",
       "      <td>-0.085467</td>\n",
       "      <td>0</td>\n",
       "      <td>0</td>\n",
       "      <td>0</td>\n",
       "      <td>0</td>\n",
       "      <td>0</td>\n",
       "    </tr>\n",
       "    <tr>\n",
       "      <th>...</th>\n",
       "      <td>...</td>\n",
       "      <td>...</td>\n",
       "      <td>...</td>\n",
       "      <td>...</td>\n",
       "      <td>...</td>\n",
       "      <td>...</td>\n",
       "      <td>...</td>\n",
       "      <td>...</td>\n",
       "    </tr>\n",
       "    <tr>\n",
       "      <th>20001</th>\n",
       "      <td>1</td>\n",
       "      <td>0.378167</td>\n",
       "      <td>-1.563625</td>\n",
       "      <td>0</td>\n",
       "      <td>0</td>\n",
       "      <td>0</td>\n",
       "      <td>0</td>\n",
       "      <td>0</td>\n",
       "    </tr>\n",
       "    <tr>\n",
       "      <th>20002</th>\n",
       "      <td>1</td>\n",
       "      <td>-1.157465</td>\n",
       "      <td>-1.009316</td>\n",
       "      <td>0</td>\n",
       "      <td>0</td>\n",
       "      <td>0</td>\n",
       "      <td>0</td>\n",
       "      <td>0</td>\n",
       "    </tr>\n",
       "    <tr>\n",
       "      <th>20003</th>\n",
       "      <td>1</td>\n",
       "      <td>-0.254152</td>\n",
       "      <td>-0.455007</td>\n",
       "      <td>0</td>\n",
       "      <td>0</td>\n",
       "      <td>0</td>\n",
       "      <td>0</td>\n",
       "      <td>0</td>\n",
       "    </tr>\n",
       "    <tr>\n",
       "      <th>20004</th>\n",
       "      <td>1</td>\n",
       "      <td>0.016842</td>\n",
       "      <td>0.468842</td>\n",
       "      <td>0</td>\n",
       "      <td>0</td>\n",
       "      <td>0</td>\n",
       "      <td>0</td>\n",
       "      <td>0</td>\n",
       "    </tr>\n",
       "    <tr>\n",
       "      <th>20005</th>\n",
       "      <td>1</td>\n",
       "      <td>2.004130</td>\n",
       "      <td>-1.009316</td>\n",
       "      <td>1</td>\n",
       "      <td>1</td>\n",
       "      <td>1</td>\n",
       "      <td>1</td>\n",
       "      <td>1</td>\n",
       "    </tr>\n",
       "  </tbody>\n",
       "</table>\n",
       "<p>20006 rows × 8 columns</p>\n",
       "</div>"
      ],
      "text/plain": [
       "       long_hair  forehead_width_cm  forehead_height_cm  nose_wide  nose_long  \\\n",
       "0              1          -1.247796            0.284072          1          0   \n",
       "1              0           0.739492           -1.009316          0          0   \n",
       "2              0          -1.247796            0.653612          1          1   \n",
       "3              0           1.100817            0.284072          0          1   \n",
       "4              1           0.287836           -0.085467          0          0   \n",
       "...          ...                ...                 ...        ...        ...   \n",
       "20001          1           0.378167           -1.563625          0          0   \n",
       "20002          1          -1.157465           -1.009316          0          0   \n",
       "20003          1          -0.254152           -0.455007          0          0   \n",
       "20004          1           0.016842            0.468842          0          0   \n",
       "20005          1           2.004130           -1.009316          1          1   \n",
       "\n",
       "       lips_thin  distance_nose_to_lip_long  gender  \n",
       "0              1                          1       1  \n",
       "1              1                          0       0  \n",
       "2              1                          1       1  \n",
       "3              1                          1       1  \n",
       "4              0                          0       0  \n",
       "...          ...                        ...     ...  \n",
       "20001          0                          0       0  \n",
       "20002          0                          0       0  \n",
       "20003          0                          0       0  \n",
       "20004          0                          0       0  \n",
       "20005          1                          1       1  \n",
       "\n",
       "[20006 rows x 8 columns]"
      ]
     },
     "execution_count": 25,
     "metadata": {},
     "output_type": "execute_result"
    }
   ],
   "source": [
    "df"
   ]
  },
  {
   "cell_type": "markdown",
   "id": "6df43d8e-dd5d-45be-96fe-2badcfff4698",
   "metadata": {},
   "source": [
    "MODELING"
   ]
  },
  {
   "cell_type": "code",
   "execution_count": 26,
   "id": "b56ce656-b514-4fea-92e5-7b04ace36577",
   "metadata": {},
   "outputs": [],
   "source": [
    "x = df[[\"forehead_width_cm\",\"forehead_height_cm\",\"nose_wide\",\"nose_long\",\"lips_thin\",\"distance_nose_to_lip_long\"]]\n",
    "y = df[[\"gender\"]]"
   ]
  },
  {
   "cell_type": "code",
   "execution_count": 27,
   "id": "95a9e917-fcdd-4f10-9044-096486f6076b",
   "metadata": {},
   "outputs": [],
   "source": [
    "x_train,x_test,y_train,y_test = train_test_split(x,y,test_size=0.2, random_state=42)"
   ]
  },
  {
   "cell_type": "markdown",
   "id": "d69e7eb3-d08d-41a1-af66-bc875fdf3fb1",
   "metadata": {},
   "source": [
    "# LogisticRegression"
   ]
  },
  {
   "cell_type": "code",
   "execution_count": 28,
   "id": "3dbfdecb-64f8-49f7-8413-0016676a7a91",
   "metadata": {},
   "outputs": [
    {
     "name": "stdout",
     "output_type": "stream",
     "text": [
      "Test accuracy: 96.95%\n"
     ]
    }
   ],
   "source": [
    "lr = LogisticRegression()\n",
    "lr.fit(x_train, y_train)\n",
    "y_pred1 = lr.predict(x_test)\n",
    "lr_acc = accuracy_score(y_pred1, y_test)\n",
    "print(\"Test accuracy: {:.2f}%\".format(lr_acc*100))"
   ]
  },
  {
   "cell_type": "code",
   "execution_count": 29,
   "id": "10e801ac-3e2b-4b0d-b2d8-ae17a2851be0",
   "metadata": {},
   "outputs": [
    {
     "name": "stdout",
     "output_type": "stream",
     "text": [
      "              precision    recall  f1-score   support\n",
      "\n",
      "           0       0.97      0.97      0.97      2058\n",
      "           1       0.97      0.97      0.97      1944\n",
      "\n",
      "    accuracy                           0.97      4002\n",
      "   macro avg       0.97      0.97      0.97      4002\n",
      "weighted avg       0.97      0.97      0.97      4002\n",
      "\n"
     ]
    }
   ],
   "source": [
    "print(classification_report(y_test,y_pred1))"
   ]
  },
  {
   "cell_type": "markdown",
   "id": "706d4fe2-0f8b-41e6-b0dd-4c5fc2a73f59",
   "metadata": {},
   "source": [
    "# KNeighborsClassifier"
   ]
  },
  {
   "cell_type": "code",
   "execution_count": 30,
   "id": "8fe57252-b0a0-4ef6-8a01-76696c0d450f",
   "metadata": {},
   "outputs": [
    {
     "name": "stdout",
     "output_type": "stream",
     "text": [
      "Test accuracy: 98.20%\n"
     ]
    }
   ],
   "source": [
    "KNN = KNeighborsClassifier()\n",
    "KNN.fit(x_train, y_train)\n",
    "y_pred2 = KNN.predict(x_test)\n",
    "KNN_acc = accuracy_score(y_pred2, y_test)\n",
    "print(\"Test accuracy: {:.2f}%\".format(KNN_acc*100))"
   ]
  },
  {
   "cell_type": "code",
   "execution_count": 31,
   "id": "eb0b74ee-d24d-4900-92cf-94868baebb5a",
   "metadata": {},
   "outputs": [
    {
     "name": "stdout",
     "output_type": "stream",
     "text": [
      "              precision    recall  f1-score   support\n",
      "\n",
      "           0       0.98      0.98      0.98      2058\n",
      "           1       0.98      0.98      0.98      1944\n",
      "\n",
      "    accuracy                           0.98      4002\n",
      "   macro avg       0.98      0.98      0.98      4002\n",
      "weighted avg       0.98      0.98      0.98      4002\n",
      "\n"
     ]
    }
   ],
   "source": [
    "print(classification_report(y_test,y_pred2))"
   ]
  },
  {
   "cell_type": "markdown",
   "id": "90604a20-39e4-485e-930e-f484abd3be93",
   "metadata": {},
   "source": [
    "# DecisionTreeClassifier"
   ]
  },
  {
   "cell_type": "code",
   "execution_count": 32,
   "id": "bd46a33a-fba5-4d2c-b3cb-c49ae0e31734",
   "metadata": {},
   "outputs": [
    {
     "name": "stdout",
     "output_type": "stream",
     "text": [
      "Test accuracy: 99.58%\n"
     ]
    }
   ],
   "source": [
    "Dt = DecisionTreeClassifier()\n",
    "Dt.fit(x_train, y_train)\n",
    "y_pred3 = Dt.predict(x_test)\n",
    "Dt_acc = accuracy_score(y_pred3, y_test)\n",
    "print(\"Test accuracy: {:.2f}%\".format(Dt_acc*100))"
   ]
  },
  {
   "cell_type": "code",
   "execution_count": 33,
   "id": "746fcf0e-440b-4645-8555-cf1a445dfff2",
   "metadata": {},
   "outputs": [
    {
     "name": "stdout",
     "output_type": "stream",
     "text": [
      "              precision    recall  f1-score   support\n",
      "\n",
      "           0       1.00      1.00      1.00      2058\n",
      "           1       0.99      1.00      1.00      1944\n",
      "\n",
      "    accuracy                           1.00      4002\n",
      "   macro avg       1.00      1.00      1.00      4002\n",
      "weighted avg       1.00      1.00      1.00      4002\n",
      "\n"
     ]
    }
   ],
   "source": [
    "print(classification_report(y_test,y_pred3))"
   ]
  },
  {
   "cell_type": "markdown",
   "id": "7d0a3043-a6b6-47f6-9583-44d7ad2bb842",
   "metadata": {},
   "source": [
    "# SVC"
   ]
  },
  {
   "cell_type": "code",
   "execution_count": 34,
   "id": "8011f803-4f58-497f-aae8-9dc563d1038a",
   "metadata": {},
   "outputs": [
    {
     "name": "stdout",
     "output_type": "stream",
     "text": [
      "Test accuracy: 99.58%\n"
     ]
    }
   ],
   "source": [
    "svc = SVC()\n",
    "svc.fit(x_train, y_train)\n",
    "y_pred4 = Dt.predict(x_test)\n",
    "svc_acc = accuracy_score(y_pred4, y_test)\n",
    "print(\"Test accuracy: {:.2f}%\".format(svc_acc*100))"
   ]
  },
  {
   "cell_type": "code",
   "execution_count": 35,
   "id": "b81ca509-bdbd-40da-b580-c13a37492594",
   "metadata": {},
   "outputs": [
    {
     "name": "stdout",
     "output_type": "stream",
     "text": [
      "              precision    recall  f1-score   support\n",
      "\n",
      "           0       1.00      1.00      1.00      2058\n",
      "           1       0.99      1.00      1.00      1944\n",
      "\n",
      "    accuracy                           1.00      4002\n",
      "   macro avg       1.00      1.00      1.00      4002\n",
      "weighted avg       1.00      1.00      1.00      4002\n",
      "\n"
     ]
    }
   ],
   "source": [
    "print(classification_report(y_test,y_pred4))"
   ]
  },
  {
   "cell_type": "markdown",
   "id": "e7ddfb36-068e-451b-afba-d7b40f4e34e7",
   "metadata": {},
   "source": [
    "# RandomForestClassifier"
   ]
  },
  {
   "cell_type": "code",
   "execution_count": 36,
   "id": "3aeb030a-2155-49ba-b53e-421218f09297",
   "metadata": {},
   "outputs": [
    {
     "name": "stdout",
     "output_type": "stream",
     "text": [
      "Test accuracy: 99.68%\n"
     ]
    }
   ],
   "source": [
    "Rfc = RandomForestClassifier()\n",
    "Rfc.fit(x_train, y_train)\n",
    "y_pred5 = Rfc.predict(x_test)\n",
    "Rfc_acc = accuracy_score(y_pred5, y_test)\n",
    "print(\"Test accuracy: {:.2f}%\".format(Rfc_acc*100))"
   ]
  },
  {
   "cell_type": "code",
   "execution_count": 37,
   "id": "afcb782d-8903-43a7-b2e0-a0b9cdab23bd",
   "metadata": {},
   "outputs": [
    {
     "name": "stdout",
     "output_type": "stream",
     "text": [
      "              precision    recall  f1-score   support\n",
      "\n",
      "           0       1.00      1.00      1.00      2058\n",
      "           1       1.00      1.00      1.00      1944\n",
      "\n",
      "    accuracy                           1.00      4002\n",
      "   macro avg       1.00      1.00      1.00      4002\n",
      "weighted avg       1.00      1.00      1.00      4002\n",
      "\n"
     ]
    }
   ],
   "source": [
    "print(classification_report(y_test,y_pred5))"
   ]
  },
  {
   "cell_type": "code",
   "execution_count": 38,
   "id": "421ed7f9-a5d3-4c0e-aa3d-6937c528114e",
   "metadata": {},
   "outputs": [
    {
     "data": {
      "text/html": [
       "<div>\n",
       "<style scoped>\n",
       "    .dataframe tbody tr th:only-of-type {\n",
       "        vertical-align: middle;\n",
       "    }\n",
       "\n",
       "    .dataframe tbody tr th {\n",
       "        vertical-align: top;\n",
       "    }\n",
       "\n",
       "    .dataframe thead th {\n",
       "        text-align: right;\n",
       "    }\n",
       "</style>\n",
       "<table border=\"1\" class=\"dataframe\">\n",
       "  <thead>\n",
       "    <tr style=\"text-align: right;\">\n",
       "      <th></th>\n",
       "      <th>Model</th>\n",
       "      <th>Accuracy</th>\n",
       "    </tr>\n",
       "  </thead>\n",
       "  <tbody>\n",
       "    <tr>\n",
       "      <th>4</th>\n",
       "      <td>RandomForestClassifier</td>\n",
       "      <td>0.996752</td>\n",
       "    </tr>\n",
       "    <tr>\n",
       "      <th>2</th>\n",
       "      <td>DecisionTreeClassifier</td>\n",
       "      <td>0.995752</td>\n",
       "    </tr>\n",
       "    <tr>\n",
       "      <th>3</th>\n",
       "      <td>SVC</td>\n",
       "      <td>0.995752</td>\n",
       "    </tr>\n",
       "    <tr>\n",
       "      <th>1</th>\n",
       "      <td>KNeighborsClassifier</td>\n",
       "      <td>0.982009</td>\n",
       "    </tr>\n",
       "    <tr>\n",
       "      <th>0</th>\n",
       "      <td>LogisticRegression</td>\n",
       "      <td>0.969515</td>\n",
       "    </tr>\n",
       "  </tbody>\n",
       "</table>\n",
       "</div>"
      ],
      "text/plain": [
       "                    Model  Accuracy\n",
       "4  RandomForestClassifier  0.996752\n",
       "2  DecisionTreeClassifier  0.995752\n",
       "3                     SVC  0.995752\n",
       "1    KNeighborsClassifier  0.982009\n",
       "0      LogisticRegression  0.969515"
      ]
     },
     "execution_count": 38,
     "metadata": {},
     "output_type": "execute_result"
    }
   ],
   "source": [
    "result = pd.DataFrame({\n",
    "    'Model': ['LogisticRegression', 'KNeighborsClassifier', 'DecisionTreeClassifier', 'SVC', 'RandomForestClassifier'],\n",
    "    'Accuracy' : [lr_acc, KNN_acc, Dt_acc, svc_acc, Rfc_acc]\n",
    "})\n",
    "\n",
    "result.sort_values(by='Accuracy', ascending=False)"
   ]
  },
  {
   "cell_type": "markdown",
   "id": "32d40ac8-eb9f-462a-93b9-c498e27840fd",
   "metadata": {},
   "source": [
    "<div style=\"border-radius:20px; padding: 15px; font-size:100%; text-align:left; background-image: url(https://i.postimg.cc/0jG2Q5Nm/Adobe-Stock-522250922-Preview-Medium.jpg)\">\n",
    "\n",
    "<h3 style=\"font-size:185%; font-weight:bolder; color:#005f26\">Results : </h3>\n",
    "\n",
    "<span style=\"font-size:120%; font-weight:700; color:#005f26\">Acording to the above plots, best Model  base on Score is :</span>\n",
    "\n",
    "<span style=\"font-size:100%; font-weight:500; color:#005f26\">\n",
    "<ul><b>RandomForestClassifier</b></ul>\n",
    "</br>\n",
    "</span>\n",
    "\n",
    "<span style=\"font-size:150%; font-weight:bolder; color:navy\">So, We choose <mark> RandomForestClassifier </mark></span>\n",
    "</div>"
   ]
  },
  {
   "cell_type": "code",
   "execution_count": null,
   "id": "7ccfbc04-d8ce-412a-8221-47779ac9d9f3",
   "metadata": {},
   "outputs": [],
   "source": []
  }
 ],
 "metadata": {
  "kernelspec": {
   "display_name": "Python 3 (ipykernel)",
   "language": "python",
   "name": "python3"
  },
  "language_info": {
   "codemirror_mode": {
    "name": "ipython",
    "version": 3
   },
   "file_extension": ".py",
   "mimetype": "text/x-python",
   "name": "python",
   "nbconvert_exporter": "python",
   "pygments_lexer": "ipython3",
   "version": "3.11.5"
  }
 },
 "nbformat": 4,
 "nbformat_minor": 5
}
